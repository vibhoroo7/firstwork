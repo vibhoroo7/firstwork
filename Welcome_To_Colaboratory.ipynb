{
  "cells": [
    {
      "cell_type": "code",
      "source": [
        "def isprime(num):\n",
        "    if num> 1:  \n",
        "        for n in range(2,num):  \n",
        "            if (num % n) == 0:  \n",
        "                return False\n",
        "            else:\n",
        "                return True\n",
        "    else:\n",
        "        return False"
      ],
      "metadata": {
        "id": "SDA9QdxvzYwZ"
      },
      "execution_count": 8,
      "outputs": []
    },
    {
      "cell_type": "code",
      "source": [
        "isprime(1)"
      ],
      "metadata": {
        "id": "zdw18O0JzdVx",
        "outputId": "d78b0309-31da-4e49-8fe7-0744d84f9024",
        "colab": {
          "base_uri": "https://localhost:8080/"
        }
      },
      "execution_count": 10,
      "outputs": [
        {
          "output_type": "execute_result",
          "data": {
            "text/plain": [
              "False"
            ]
          },
          "metadata": {},
          "execution_count": 10
        }
      ]
    },
    {
      "cell_type": "code",
      "source": [
        "isprime(5)"
      ],
      "metadata": {
        "id": "tiynguOU1C9c",
        "outputId": "011e2275-72e1-4e99-c92a-b28f84be107d",
        "colab": {
          "base_uri": "https://localhost:8080/"
        }
      },
      "execution_count": 11,
      "outputs": [
        {
          "output_type": "execute_result",
          "data": {
            "text/plain": [
              "True"
            ]
          },
          "metadata": {},
          "execution_count": 11
        }
      ]
    }
  ],
  "metadata": {
    "colab": {
      "collapsed_sections": [],
      "name": "Welcome To Colaboratory",
      "toc_visible": true,
      "provenance": []
    },
    "kernelspec": {
      "display_name": "Python 3",
      "name": "python3"
    }
  },
  "nbformat": 4,
  "nbformat_minor": 0
}